{
  "nbformat": 4,
  "nbformat_minor": 0,
  "metadata": {
    "colab": {
      "provenance": []
    },
    "kernelspec": {
      "name": "python3",
      "display_name": "Python 3"
    },
    "language_info": {
      "name": "python"
    }
  },
  "cells": [
    {
      "cell_type": "markdown",
      "source": [
        "#**ProteinMPNN + AlphaFold2 for RFdiffusion Binders**\n",
        "\n",
        "This notebook uses [ColabDesign](https://github.com/sokrypton/ColabDesign) to generate sequences for RFdiffusion binder backbones, and to then run AlphaFold2 to screen the binders.\n",
        "\n",
        "**References:**\n",
        " - RFdiffusion: [Watson et al. *Nature* 2023.](https://www.nature.com/articles/s41586-023-06415-8)\n",
        " - ProteinMPNN: [Dauparas et al. *Science* 2022.](https://www.science.org/doi/full/10.1126/science.add2187)\n",
        " - AlphaFold2: [Jumper et al. *Nature* 2021.](https://www.nature.com/articles/s41586-021-03819-2)\n",
        " - ColabFold: [Mirdita et al. *Nature Methods* 2022.](https://www.nature.com/articles/s41592-022-01488-1)\n",
        " - AF2 initial guess: [Bennett et al. *Nature Communications* 2023.](https://www.nature.com/articles/s41467-023-38328-5)"
      ],
      "metadata": {
        "id": "2-Xb84ikp6jw"
      }
    },
    {
      "cell_type": "code",
      "execution_count": null,
      "metadata": {
        "cellView": "form",
        "id": "RRuijFKAn4ci"
      },
      "outputs": [],
      "source": [
        "#@title **1) Setup**\n",
        "%%time\n",
        "\n",
        "import os, time, signal, glob\n",
        "import sys, random, string, re\n",
        "from google.colab import files\n",
        "\n",
        "print(\"Installing ColabDesign...\")\n",
        "os.system(\"pip -q install git+https://github.com/sokrypton/ColabDesign.git\")\n",
        "os.system(\"ln -s /usr/local/lib/python3.*/dist-packages/colabdesign colabdesign\")\n",
        "\n",
        "print('Getting params...')\n",
        "if not os.path.isdir(\"params\"):\n",
        "  os.system(\"apt-get install aria2\")\n",
        "  os.system(\"mkdir params\")\n",
        "  # send param download into background\n",
        "  os.system(\"(\\\n",
        "  aria2c -q -x 16 https://files.ipd.uw.edu/krypton/schedules.zip; \\\n",
        "  aria2c -q -x 16 https://storage.googleapis.com/alphafold/alphafold_params_2022-12-06.tar; \\\n",
        "  tar -xf alphafold_params_2022-12-06.tar -C params; \\\n",
        "  touch params/done.txt)\")\n",
        "\n",
        "!cd params\n",
        "!for i in {1..5}; do ln -s params_model_\"$i\"_ptm.npz model_\"$i\"_ptm.npz; done"
      ]
    },
    {
      "cell_type": "code",
      "source": [
        "#@title **2) Specifications**\n",
        "#@markdown Fill out the options below, run this cell, then upload a zipped folder of RFdiffusion pdb files when prompted.\n",
        "\n",
        "from google.colab import files\n",
        "import os, glob\n",
        "\n",
        "contigs = 'A1-102:80-80' #@param {type:'string'}\n",
        "\n",
        "output_folder_name = 'output_colab_test11' #@param {type:'string'}\n",
        "\n",
        "#@markdown *If your RFdiffusion pdbs have the binder as chain A and the target as B, check the box below:*\n",
        "\n",
        "flip_chains = True #@param {type:\"boolean\"}\n",
        "\n",
        "#@markdown <u>ProteinMPNN:</u>\n",
        "\n",
        "MPNN_seqs_per_struct = 2 #@param {type:\"raw\"}\n",
        "MPNN_sampling_temp = 0.000001 #@param {type:\"raw\"}\n",
        "MPNN_exclude_aa = 'C' #@param {type:\"string\"}\n",
        "MPNN_use_soluble_params = False #@param {type:\"boolean\"}\n",
        "\n",
        "#@markdown <u>AlphaFold2:</u>\n",
        "\n",
        "AF_num_recycles = 3 #@param {type:\"raw\"}\n",
        "AF_use_multimer = False #@param {type:\"boolean\"}\n",
        "AF_use_initial_guess = True #@param {type:\"boolean\"}\n",
        "\n",
        "upload_dict = files.upload()\n",
        "uploaded_file_name = list(upload_dict.keys())[0]\n",
        "\n",
        "os.system(f'unzip {uploaded_file_name}')\n",
        "\n",
        "count = 0\n",
        "\n",
        "for pdbpath in glob.glob(os.path.join(uploaded_file_name[:-4], '*.pdb')):\n",
        "  count += 1\n",
        "\n",
        "print(f'{count} pdbs unzipped.')\n",
        "\n",
        "if flip_chains:\n",
        "  for pdbpath in glob.glob(os.path.join(uploaded_file_name[:-4], '*.pdb')):\n",
        "    !sed -i 's/ A / X /g' {pdbpath}\n",
        "    !sed -i 's/ B / A /g' {pdbpath}\n",
        "    !sed -i 's/ X / B /g' {pdbpath}\n",
        "  print('Chains flipped.')"
      ],
      "metadata": {
        "cellView": "form",
        "id": "xPyo-yFuoSBA"
      },
      "execution_count": null,
      "outputs": []
    },
    {
      "cell_type": "code",
      "source": [
        "#@title **3) Run ProteinMPNN/AF2**\n",
        "%%time\n",
        "\n",
        "\n",
        "def run_designability_test(pdbpath):\n",
        "  label = os.path.basename(pdbpath).split('.')[0]\n",
        "  arg_string = f'--pdb={pdbpath} --loc={output_folder_name} --contigs=\\'{contigs}\\' --num_seqs={MPNN_seqs_per_struct} --mpnn_sampling_temp={MPNN_sampling_temp} --rm_aa={MPNN_exclude_aa} --num_recycles={AF_num_recycles}'\n",
        "  if AF_use_multimer:\n",
        "    arg_string += ' --use_multimer'\n",
        "  if AF_use_initial_guess:\n",
        "    arg_string += ' --initial_guess'\n",
        "  if MPNN_use_soluble_params:\n",
        "    arg_string += ' --use_soluble'\n",
        "  !python colabdesign/rf/designability_test.py {arg_string}\n",
        "  os.system(f'cat {output_folder_name}/design.fasta')\n",
        "  with open(f'{output_folder_name}/design.fasta', 'r') as fastafile:\n",
        "    flines = [line for line in fastafile]\n",
        "  with open(f'{output_folder_name}/full_fasta.fasta', 'a') as newfasta:\n",
        "    for i in range(MPNN_seqs_per_struct):\n",
        "      newfasta.writelines(f'>{label}_seq_' + flines[(i * 2)].split(' n:')[1])\n",
        "      newfasta.writelines(flines[(i * 2) + 1])\n",
        "  os.system(f'rm {output_folder_name}/design.fasta')\n",
        "  os.system(f'rm {output_folder_name}/mpnn_results.csv')\n",
        "  if not os.path.exists(f'{output_folder_name}/af2_pdbs'):\n",
        "    os.system(f'mkdir {output_folder_name}/af2_pdbs')\n",
        "  for pdbresultpath in glob.glob(os.path.join(output_folder_name, 'all_pdb', '*.pdb')):\n",
        "    seqnum = os.path.basename(pdbresultpath).split('.')[0].split('_n')[-1]\n",
        "    os.system(f'mv {pdbresultpath} {output_folder_name}/af2_pdbs/{label}_seq_{seqnum}_af2.pdb')\n",
        "  os.system(f'rm {output_folder_name}/best*.pdb')\n",
        "  os.system(f'rm -r {output_folder_name}/all_pdb')\n",
        "  print(f'Done with {pdbpath}!\\n')\n",
        "\n",
        "\n",
        "\n",
        "for pdbpath in glob.glob(os.path.join(uploaded_file_name[:-4], '*.pdb')):\n",
        "  run_designability_test(pdbpath)\n",
        "\n"
      ],
      "metadata": {
        "cellView": "form",
        "id": "zZjCO9CmpPvF"
      },
      "execution_count": null,
      "outputs": []
    },
    {
      "cell_type": "code",
      "source": [
        "#@title **4) Download Results**\n",
        "\n",
        "!apt-get install zip\n",
        "\n",
        "os.system(f'zip -r {output_folder_name}.zip {output_folder_name}')\n",
        "\n",
        "files.download(f'{output_folder_name}.zip')\n",
        "\n",
        "print('Done! :)')"
      ],
      "metadata": {
        "cellView": "form",
        "id": "4HJfYHErpkxE"
      },
      "execution_count": null,
      "outputs": []
    }
  ]
}